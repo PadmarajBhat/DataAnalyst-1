{
 "cells": [
  {
   "cell_type": "markdown",
   "metadata": {},
   "source": [
    "##### Some of the python tricks which I did not know before...."
   ]
  },
  {
   "cell_type": "code",
   "execution_count": 2,
   "metadata": {},
   "outputs": [
    {
     "name": "stdout",
     "output_type": "stream",
     "text": [
      "False\n"
     ]
    }
   ],
   "source": [
    "print(0.1 + 0.1 + 0.1 == 0.3)"
   ]
  },
  {
   "cell_type": "code",
   "execution_count": 4,
   "metadata": {},
   "outputs": [
    {
     "name": "stdout",
     "output_type": "stream",
     "text": [
      "Hello Hello Hello \n"
     ]
    }
   ],
   "source": [
    "print(\"Hello \" * 3)"
   ]
  },
  {
   "cell_type": "markdown",
   "metadata": {},
   "source": [
    "##### Python Coding Standarad : https://www.python.org/dev/peps/pep-0008/"
   ]
  },
  {
   "cell_type": "code",
   "execution_count": 21,
   "metadata": {},
   "outputs": [
    {
     "name": "stdout",
     "output_type": "stream",
     "text": [
      "Single quote : ' retained \n",
      "Double quote : \" retained \n",
      "Single and Double qote reatained : \" ' \n"
     ]
    }
   ],
   "source": [
    "print(\"Single quote : ' retained \")\n",
    "print('Double quote : \" retained ')\n",
    "print(\"Single and Double qote reatained : \\\" ' \")"
   ]
  },
  {
   "cell_type": "code",
   "execution_count": 23,
   "metadata": {},
   "outputs": [
    {
     "data": {
      "text/plain": [
       "3"
      ]
     },
     "execution_count": 23,
     "metadata": {},
     "output_type": "execute_result"
    }
   ],
   "source": [
    "len(\"835\")"
   ]
  },
  {
   "cell_type": "code",
   "execution_count": 25,
   "metadata": {},
   "outputs": [
    {
     "name": "stdout",
     "output_type": "stream",
     "text": [
      "This Is All Lower Case Words But Title Function Changes It\n"
     ]
    }
   ],
   "source": [
    "print(\"this is all lower case words but title function changes it\".title())"
   ]
  },
  {
   "cell_type": "code",
   "execution_count": 31,
   "metadata": {},
   "outputs": [
    {
     "name": "stdout",
     "output_type": "stream",
     "text": [
      "6\n"
     ]
    }
   ],
   "source": [
    "print(\"she sells sea shells on the she shore but \\\n",
    "      the sea shells she sells on the she shore are not from the sea shore\"\\\n",
    "      .count('she'))"
   ]
  },
  {
   "cell_type": "code",
   "execution_count": 40,
   "metadata": {},
   "outputs": [
    {
     "name": "stdout",
     "output_type": "stream",
     "text": [
      "This is placeholder number 1 and this would be placeholder number 2.0\n"
     ]
    }
   ],
   "source": [
    "print(\"This is placeholder number {} and this would be placeholder number {}\".format(1, 2.0))"
   ]
  },
  {
   "cell_type": "code",
   "execution_count": 43,
   "metadata": {},
   "outputs": [
    {
     "name": "stdout",
     "output_type": "stream",
     "text": [
      "['This', 'string', 'is', 'going', 'to', 'be cut !!! Will there be any split of a word ???']\n"
     ]
    }
   ],
   "source": [
    "print(\"This string is going to be cut !!! Will there be any split of a word ???\".split(None,5))"
   ]
  },
  {
   "cell_type": "code",
   "execution_count": 47,
   "metadata": {},
   "outputs": [
    {
     "name": "stdout",
     "output_type": "stream",
     "text": [
      "<class 'int'>\n",
      "<class 'float'>\n",
      "<class 'str'>\n",
      "<class 'bool'>\n"
     ]
    }
   ],
   "source": [
    "list_of_random_things = [1, 3.4, 'a string', True]\n",
    "_=[print(type(x)) for x in list_of_random_things]"
   ]
  },
  {
   "cell_type": "markdown",
   "metadata": {},
   "source": [
    "##### Mutatble vs Immutable variables"
   ]
  },
  {
   "cell_type": "code",
   "execution_count": 51,
   "metadata": {},
   "outputs": [
    {
     "name": "stdout",
     "output_type": "stream",
     "text": [
      "Changed list item:  1 is changed to a string\n",
      "I am mutable because I changed after my creation !!!, I am the LIST\n"
     ]
    }
   ],
   "source": [
    "try:\n",
    "    list_of_random_things[0] = \"1 is changed to a string\"\n",
    "    print(\"Changed list item: \", list_of_random_things[0])\n",
    "    print(\"I am mutable because I changed after my creation !!!, I am the LIST\")\n",
    "except:\n",
    "    print(\"This pring might not execute\")"
   ]
  },
  {
   "cell_type": "code",
   "execution_count": 49,
   "metadata": {},
   "outputs": [
    {
     "name": "stdout",
     "output_type": "stream",
     "text": [
      " I am not mutable; you cant change me.....I am string\n"
     ]
    }
   ],
   "source": [
    "try:\n",
    "    str1 = \"Hello World!!!\"\n",
    "    str1[0] = \"W\"\n",
    "    \n",
    "except:\n",
    "    print(\" I am not mutable; you cant change me.....I am string\")\n",
    "    "
   ]
  },
  {
   "cell_type": "code",
   "execution_count": 53,
   "metadata": {},
   "outputs": [
    {
     "name": "stdout",
     "output_type": "stream",
     "text": [
      "First list [1, 2, 3, 4, 5], Second list [1, 2, 3, 4, 5]\n",
      "First list ['One', 2, 3, 4, 5], Second list ['One', 2, 3, 4, 5]\n"
     ]
    }
   ],
   "source": [
    "list_1 = [1,2,3,4,5]\n",
    "list_2 = list_1\n",
    "print(\"First list {}, Second list {}\".format(list_1, list_2))\n",
    "list_2[0] = \"One\"\n",
    "print(\"First list {}, Second list {}\".format(list_1, list_2))"
   ]
  },
  {
   "cell_type": "code",
   "execution_count": 56,
   "metadata": {},
   "outputs": [
    {
     "name": "stdout",
     "output_type": "stream",
     "text": [
      "First String Paddy, Second String Paddy\n",
      "First String loves Python, Second String Paddy\n"
     ]
    }
   ],
   "source": [
    "string_1 = \"Paddy\"\n",
    "string_2 = string_1\n",
    "print(\"First String {}, Second String {}\".format(string_1, string_2))\n",
    "string_1 = \"loves Python\"\n",
    "print(\"First String {}, Second String {}\".format(string_1, string_2))"
   ]
  },
  {
   "cell_type": "markdown",
   "metadata": {},
   "source": [
    "##### Max function on list of strings"
   ]
  },
  {
   "cell_type": "code",
   "execution_count": 58,
   "metadata": {},
   "outputs": [
    {
     "name": "stdout",
     "output_type": "stream",
     "text": [
      "Maximum value in out of X, Y & Z is : Z\n"
     ]
    }
   ],
   "source": [
    "print(\"Maximum value in out of X, Y & Z is :\", max(['X', 'Y', 'Z']))"
   ]
  },
  {
   "cell_type": "code",
   "execution_count": 60,
   "metadata": {},
   "outputs": [
    {
     "name": "stdout",
     "output_type": "stream",
     "text": [
      "Maximum value in out of Xylophone, Yolo & Zebra is : Zebra\n"
     ]
    }
   ],
   "source": [
    "print(\"Maximum value in out of Xylophone, Yolo & Zebra is :\", max(['Xylophone', 'Yolo', 'Zebra']))"
   ]
  },
  {
   "cell_type": "code",
   "execution_count": 62,
   "metadata": {},
   "outputs": [
    {
     "name": "stdout",
     "output_type": "stream",
     "text": [
      "Maximum value in out of Xylophone, Yolo & Zebra is : xylophone\n"
     ]
    }
   ],
   "source": [
    "print(\"Maximum value in out of xylophone, Yolo & Zebra is :\", max(['xylophone', 'Yolo', 'Zebra']))"
   ]
  },
  {
   "cell_type": "code",
   "execution_count": 72,
   "metadata": {},
   "outputs": [
    {
     "name": "stdout",
     "output_type": "stream",
     "text": [
      "Can there be a list with no commas ? :  ['abcd'] 1\n"
     ]
    }
   ],
   "source": [
    "print(\"Can there be a list with no commas ? : \", ['a' 'b' 'c' 'd'], len(['a' 'b' 'c' 'd']))"
   ]
  },
  {
   "cell_type": "markdown",
   "metadata": {},
   "source": [
    "##### We cant catch exception error."
   ]
  },
  {
   "cell_type": "code",
   "execution_count": 79,
   "metadata": {},
   "outputs": [
    {
     "ename": "SyntaxError",
     "evalue": "invalid syntax (<ipython-input-79-7cd264d9730a>, line 3)",
     "output_type": "error",
     "traceback": [
      "\u001b[1;36m  File \u001b[1;32m\"<ipython-input-79-7cd264d9730a>\"\u001b[1;36m, line \u001b[1;32m3\u001b[0m\n\u001b[1;33m    print(\"Can there be a list with no comma seperation : \", [1 2 3 4])\u001b[0m\n\u001b[1;37m                                                                ^\u001b[0m\n\u001b[1;31mSyntaxError\u001b[0m\u001b[1;31m:\u001b[0m invalid syntax\n"
     ]
    }
   ],
   "source": [
    "def dummyFunc():\n",
    "    try:\n",
    "        print(\"Can there be a list with no comma seperation : \", [1 2 3 4])\n",
    "    except SyntaxError as error:\n",
    "        print(\"List of Numbers has to be seperated by comma\")\n",
    "        \n",
    "dummyFunc()"
   ]
  },
  {
   "cell_type": "markdown",
   "metadata": {},
   "source": [
    "##### Tuples are also immutable"
   ]
  },
  {
   "cell_type": "code",
   "execution_count": 80,
   "metadata": {},
   "outputs": [
    {
     "name": "stdout",
     "output_type": "stream",
     "text": [
      "I am a tuple, dont try to change me !!!\n"
     ]
    }
   ],
   "source": [
    "tuple_a = 1, 2\n",
    "tuple_b = (1, 2)\n",
    "\n",
    "try:\n",
    "    tuple_a[0] = 2\n",
    "except:\n",
    "    print(\"I am a tuple, dont try to change me !!!\")"
   ]
  },
  {
   "cell_type": "code",
   "execution_count": 81,
   "metadata": {},
   "outputs": [
    {
     "data": {
      "text/plain": [
       "True"
      ]
     },
     "execution_count": 81,
     "metadata": {},
     "output_type": "execute_result"
    }
   ],
   "source": [
    "tuple_a == tuple_b"
   ]
  },
  {
   "cell_type": "markdown",
   "metadata": {},
   "source": [
    "##### Set pop operation takes out random element"
   ]
  },
  {
   "cell_type": "code",
   "execution_count": 1,
   "metadata": {},
   "outputs": [
    {
     "name": "stdout",
     "output_type": "stream",
     "text": [
      "pop count: 1 , pop char element :3\n",
      "pop count: 2 , pop char element :1\n",
      "pop count: 3 , pop char element :4\n",
      "pop count: 4 , pop char element :2\n",
      "\n",
      "pop count: 1 , pop num element :1\n",
      "pop count: 2 , pop num element :2\n",
      "pop count: 3 , pop num element :3\n",
      "pop count: 4 , pop num element :4\n"
     ]
    }
   ],
   "source": [
    "set_a = {'1','2','3','4'}\n",
    "_ = [print(\"pop count: {} , pop char element :{}\".format(x+1,set_a.pop())) for x in range(len(set_a))]\n",
    "print()\n",
    "set_a = {1,2,3,4}\n",
    "_ = [print(\"pop count: {} , pop num element :{}\".format(x+1,set_a.pop())) for x in range(len(set_a))]"
   ]
  },
  {
   "cell_type": "markdown",
   "metadata": {},
   "source": [
    "##### Dictionary get function can return 'None' when key is not found. This helps us to handle not element case without crashing"
   ]
  },
  {
   "cell_type": "code",
   "execution_count": 12,
   "metadata": {},
   "outputs": [
    {
     "name": "stdout",
     "output_type": "stream",
     "text": [
      "what is the value of 'single' in our dictionary ? :  'Single' Not Present\n"
     ]
    }
   ],
   "source": [
    "dict_a = {'married':1}\n",
    "print(\"what is the value of \\'single\\' in our dictionary ? : \", dict_a.get('Single',\"\\'Single\\' Not Present\"))"
   ]
  },
  {
   "cell_type": "code",
   "execution_count": 10,
   "metadata": {},
   "outputs": [
    {
     "name": "stdout",
     "output_type": "stream",
     "text": [
      "Use 'get' or 'in' to check if the key is present\n"
     ]
    }
   ],
   "source": [
    "try:\n",
    "    print(\"Is \\'single\\' in our dictionary ? : \", dict_a['Single'])\n",
    "except:\n",
    "    print(\"Use \\'get\\' or \\'in\\' to check if the key is present\")"
   ]
  },
  {
   "cell_type": "markdown",
   "metadata": {},
   "source": [
    "##### Difference between 'is' and '=='"
   ]
  },
  {
   "cell_type": "code",
   "execution_count": 3,
   "metadata": {},
   "outputs": [
    {
     "name": "stdout",
     "output_type": "stream",
     "text": [
      "Are a and b of same value ? True\n",
      "Are a and b referreing to same memory area ? True\n",
      "\n",
      "Are a and c of same value ? True\n",
      "Are a and c referreing to same memory area ? False\n"
     ]
    }
   ],
   "source": [
    "a = [1, 2, 3]\n",
    "b = a\n",
    "c = [1, 2, 3]\n",
    "\n",
    "print(\"Are a and b of same value ?\", a == b)\n",
    "print(\"Are a and b referreing to same memory area ?\", a is b)\n",
    "print(\"\\nAre a and c of same value ?\",a == c)\n",
    "print(\"Are a and c referreing to same memory area ?\", a is c)"
   ]
  },
  {
   "cell_type": "markdown",
   "metadata": {},
   "source": [
    "##### One good bad example 'if' statement"
   ]
  },
  {
   "cell_type": "code",
   "execution_count": 3,
   "metadata": {},
   "outputs": [
    {
     "name": "stdout",
     "output_type": "stream",
     "text": [
      "Wow, I did make it to true statement\n"
     ]
    }
   ],
   "source": [
    "test_a = 10\n",
    "if  test_a > 20 or \"This will make the if condition evaluating to True\":\n",
    "    print(\"Wow, I did make it to true statement\")\n",
    "else:\n",
    "    print(\"when will I get printed ? I am waiting so long !!!\")"
   ]
  },
  {
   "cell_type": "markdown",
   "metadata": {},
   "source": [
    "##### Range check"
   ]
  },
  {
   "cell_type": "code",
   "execution_count": 4,
   "metadata": {},
   "outputs": [
    {
     "name": "stdout",
     "output_type": "stream",
     "text": [
      "5 is less than 10 and greater than 1\n"
     ]
    }
   ],
   "source": [
    "if 1 < 5 < 10:\n",
    "    print(\"5 is less than 10 and greater than 1\")"
   ]
  },
  {
   "cell_type": "markdown",
   "metadata": {},
   "source": [
    "##### String replace function"
   ]
  },
  {
   "cell_type": "code",
   "execution_count": 4,
   "metadata": {},
   "outputs": [
    {
     "name": "stdout",
     "output_type": "stream",
     "text": [
      "['joey_tribbiani', 'monica_geller', 'chandler_bing', 'phoebe_buffay']\n"
     ]
    }
   ],
   "source": [
    "names = [\"Joey Tribbiani\", \"Monica Geller\", \"Chandler Bing\", \"Phoebe Buffay\"]\n",
    "\n",
    "print([name.lower().replace(\" \", \"_\") for name in names])"
   ]
  },
  {
   "cell_type": "markdown",
   "metadata": {},
   "source": [
    "##### just a small eye catcher"
   ]
  },
  {
   "cell_type": "code",
   "execution_count": 4,
   "metadata": {},
   "outputs": [
    {
     "name": "stdout",
     "output_type": "stream",
     "text": [
      "[]\n"
     ]
    }
   ],
   "source": [
    "print(list(range(0,-5)))"
   ]
  },
  {
   "cell_type": "markdown",
   "metadata": {},
   "source": [
    "##### Factorial of a number using while loop"
   ]
  },
  {
   "cell_type": "code",
   "execution_count": 8,
   "metadata": {},
   "outputs": [
    {
     "name": "stdout",
     "output_type": "stream",
     "text": [
      "120.0\n"
     ]
    }
   ],
   "source": [
    "def returnFactorial(n):\n",
    "    fact = 1.0\n",
    "    while  n > 0:\n",
    "        fact *= n\n",
    "        n = n-1\n",
    "    return fact\n",
    "print(returnFactorial(5))"
   ]
  },
  {
   "cell_type": "markdown",
   "metadata": {},
   "source": [
    "##### Factorial of a number using  for loop"
   ]
  },
  {
   "cell_type": "code",
   "execution_count": 10,
   "metadata": {},
   "outputs": [
    {
     "data": {
      "text/plain": [
       "720"
      ]
     },
     "execution_count": 10,
     "metadata": {},
     "output_type": "execute_result"
    }
   ],
   "source": [
    "def returnFactorialF(n):\n",
    "    factorial = 1\n",
    "    for i in range(1,n+1):\n",
    "        factorial *= i\n",
    "    return factorial\n",
    "\n",
    "returnFactorialF(6)"
   ]
  },
  {
   "cell_type": "markdown",
   "metadata": {},
   "source": [
    "##### Zip"
   ]
  },
  {
   "cell_type": "code",
   "execution_count": 14,
   "metadata": {},
   "outputs": [
    {
     "name": "stdout",
     "output_type": "stream",
     "text": [
      "[(1, 10), (2, 20), (3, 30), (4, 40), (5, 50)]\n"
     ]
    }
   ],
   "source": [
    "a=[1,2,3,4,5]\n",
    "b=[10,20,30,40,50]\n",
    "print(list(zip(a,b)))\n",
    "zipped = list(zip(a,b))"
   ]
  },
  {
   "cell_type": "code",
   "execution_count": 16,
   "metadata": {},
   "outputs": [
    {
     "name": "stdout",
     "output_type": "stream",
     "text": [
      "[(1, 2, 3, 4, 5), (10, 20, 30, 40, 50)]\n"
     ]
    }
   ],
   "source": [
    "print(list(zip(*zipped)))"
   ]
  },
  {
   "cell_type": "markdown",
   "metadata": {},
   "source": [
    "##### enumerate"
   ]
  },
  {
   "cell_type": "code",
   "execution_count": 17,
   "metadata": {},
   "outputs": [
    {
     "name": "stdout",
     "output_type": "stream",
     "text": [
      "0 apples\n",
      "1 oranges\n",
      "2 bananas\n"
     ]
    }
   ],
   "source": [
    "a=['apples','oranges', 'bananas']\n",
    "_=[print (i,j) for i,j in enumerate(a)]"
   ]
  },
  {
   "cell_type": "code",
   "execution_count": null,
   "metadata": {},
   "outputs": [],
   "source": []
  }
 ],
 "metadata": {
  "kernelspec": {
   "display_name": "Python 3",
   "language": "python",
   "name": "python3"
  },
  "language_info": {
   "codemirror_mode": {
    "name": "ipython",
    "version": 3
   },
   "file_extension": ".py",
   "mimetype": "text/x-python",
   "name": "python",
   "nbconvert_exporter": "python",
   "pygments_lexer": "ipython3",
   "version": "3.6.5"
  }
 },
 "nbformat": 4,
 "nbformat_minor": 2
}
