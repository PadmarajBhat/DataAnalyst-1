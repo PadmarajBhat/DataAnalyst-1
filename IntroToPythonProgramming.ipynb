{
 "cells": [
  {
   "cell_type": "markdown",
   "metadata": {},
   "source": [
    "##### Some of the python tricks which I did not know before...."
   ]
  },
  {
   "cell_type": "code",
   "execution_count": 2,
   "metadata": {},
   "outputs": [
    {
     "name": "stdout",
     "output_type": "stream",
     "text": [
      "False\n"
     ]
    }
   ],
   "source": [
    "print(0.1 + 0.1 + 0.1 == 0.3)"
   ]
  },
  {
   "cell_type": "code",
   "execution_count": 4,
   "metadata": {},
   "outputs": [
    {
     "name": "stdout",
     "output_type": "stream",
     "text": [
      "Hello Hello Hello \n"
     ]
    }
   ],
   "source": [
    "print(\"Hello \" * 3)"
   ]
  },
  {
   "cell_type": "markdown",
   "metadata": {},
   "source": [
    "##### Python Coding Standarad : https://www.python.org/dev/peps/pep-0008/"
   ]
  },
  {
   "cell_type": "code",
   "execution_count": 21,
   "metadata": {},
   "outputs": [
    {
     "name": "stdout",
     "output_type": "stream",
     "text": [
      "Single quote : ' retained \n",
      "Double quote : \" retained \n",
      "Single and Double qote reatained : \" ' \n"
     ]
    }
   ],
   "source": [
    "print(\"Single quote : ' retained \")\n",
    "print('Double quote : \" retained ')\n",
    "print(\"Single and Double qote reatained : \\\" ' \")"
   ]
  },
  {
   "cell_type": "code",
   "execution_count": 23,
   "metadata": {},
   "outputs": [
    {
     "data": {
      "text/plain": [
       "3"
      ]
     },
     "execution_count": 23,
     "metadata": {},
     "output_type": "execute_result"
    }
   ],
   "source": [
    "len(\"835\")"
   ]
  },
  {
   "cell_type": "code",
   "execution_count": 25,
   "metadata": {},
   "outputs": [
    {
     "name": "stdout",
     "output_type": "stream",
     "text": [
      "This Is All Lower Case Words But Title Function Changes It\n"
     ]
    }
   ],
   "source": [
    "print(\"this is all lower case words but title function changes it\".title())"
   ]
  },
  {
   "cell_type": "code",
   "execution_count": 31,
   "metadata": {},
   "outputs": [
    {
     "name": "stdout",
     "output_type": "stream",
     "text": [
      "6\n"
     ]
    }
   ],
   "source": [
    "print(\"she sells sea shells on the she shore but \\\n",
    "      the sea shells she sells on the she shore are not from the sea shore\"\\\n",
    "      .count('she'))"
   ]
  },
  {
   "cell_type": "code",
   "execution_count": 40,
   "metadata": {},
   "outputs": [
    {
     "name": "stdout",
     "output_type": "stream",
     "text": [
      "This is placeholder number 1 and this would be placeholder number 2.0\n"
     ]
    }
   ],
   "source": [
    "print(\"This is placeholder number {} and this would be placeholder number {}\".format(1, 2.0))"
   ]
  },
  {
   "cell_type": "code",
   "execution_count": 43,
   "metadata": {},
   "outputs": [
    {
     "name": "stdout",
     "output_type": "stream",
     "text": [
      "['This', 'string', 'is', 'going', 'to', 'be cut !!! Will there be any split of a word ???']\n"
     ]
    }
   ],
   "source": [
    "print(\"This string is going to be cut !!! Will there be any split of a word ???\".split(None,5))"
   ]
  },
  {
   "cell_type": "code",
   "execution_count": 47,
   "metadata": {},
   "outputs": [
    {
     "name": "stdout",
     "output_type": "stream",
     "text": [
      "<class 'int'>\n",
      "<class 'float'>\n",
      "<class 'str'>\n",
      "<class 'bool'>\n"
     ]
    }
   ],
   "source": [
    "list_of_random_things = [1, 3.4, 'a string', True]\n",
    "_=[print(type(x)) for x in list_of_random_things]"
   ]
  },
  {
   "cell_type": "markdown",
   "metadata": {},
   "source": [
    "##### Mutatble vs Immutable variables"
   ]
  },
  {
   "cell_type": "code",
   "execution_count": 51,
   "metadata": {},
   "outputs": [
    {
     "name": "stdout",
     "output_type": "stream",
     "text": [
      "Changed list item:  1 is changed to a string\n",
      "I am mutable because I changed after my creation !!!, I am the LIST\n"
     ]
    }
   ],
   "source": [
    "try:\n",
    "    list_of_random_things[0] = \"1 is changed to a string\"\n",
    "    print(\"Changed list item: \", list_of_random_things[0])\n",
    "    print(\"I am mutable because I changed after my creation !!!, I am the LIST\")\n",
    "except:\n",
    "    print(\"This pring might not execute\")"
   ]
  },
  {
   "cell_type": "code",
   "execution_count": 49,
   "metadata": {},
   "outputs": [
    {
     "name": "stdout",
     "output_type": "stream",
     "text": [
      " I am not mutable; you cant change me.....I am string\n"
     ]
    }
   ],
   "source": [
    "try:\n",
    "    str1 = \"Hello World!!!\"\n",
    "    str1[0] = \"W\"\n",
    "    \n",
    "except:\n",
    "    print(\" I am not mutable; you cant change me.....I am string\")\n",
    "    "
   ]
  },
  {
   "cell_type": "code",
   "execution_count": 53,
   "metadata": {},
   "outputs": [
    {
     "name": "stdout",
     "output_type": "stream",
     "text": [
      "First list [1, 2, 3, 4, 5], Second list [1, 2, 3, 4, 5]\n",
      "First list ['One', 2, 3, 4, 5], Second list ['One', 2, 3, 4, 5]\n"
     ]
    }
   ],
   "source": [
    "list_1 = [1,2,3,4,5]\n",
    "list_2 = list_1\n",
    "print(\"First list {}, Second list {}\".format(list_1, list_2))\n",
    "list_2[0] = \"One\"\n",
    "print(\"First list {}, Second list {}\".format(list_1, list_2))"
   ]
  },
  {
   "cell_type": "code",
   "execution_count": 56,
   "metadata": {},
   "outputs": [
    {
     "name": "stdout",
     "output_type": "stream",
     "text": [
      "First String Paddy, Second String Paddy\n",
      "First String loves Python, Second String Paddy\n"
     ]
    }
   ],
   "source": [
    "string_1 = \"Paddy\"\n",
    "string_2 = string_1\n",
    "print(\"First String {}, Second String {}\".format(string_1, string_2))\n",
    "string_1 = \"loves Python\"\n",
    "print(\"First String {}, Second String {}\".format(string_1, string_2))"
   ]
  },
  {
   "cell_type": "markdown",
   "metadata": {},
   "source": [
    "##### Max function on list of strings"
   ]
  },
  {
   "cell_type": "code",
   "execution_count": 58,
   "metadata": {},
   "outputs": [
    {
     "name": "stdout",
     "output_type": "stream",
     "text": [
      "Maximum value in out of X, Y & Z is : Z\n"
     ]
    }
   ],
   "source": [
    "print(\"Maximum value in out of X, Y & Z is :\", max(['X', 'Y', 'Z']))"
   ]
  },
  {
   "cell_type": "code",
   "execution_count": 60,
   "metadata": {},
   "outputs": [
    {
     "name": "stdout",
     "output_type": "stream",
     "text": [
      "Maximum value in out of Xylophone, Yolo & Zebra is : Zebra\n"
     ]
    }
   ],
   "source": [
    "print(\"Maximum value in out of Xylophone, Yolo & Zebra is :\", max(['Xylophone', 'Yolo', 'Zebra']))"
   ]
  },
  {
   "cell_type": "code",
   "execution_count": 62,
   "metadata": {},
   "outputs": [
    {
     "name": "stdout",
     "output_type": "stream",
     "text": [
      "Maximum value in out of Xylophone, Yolo & Zebra is : xylophone\n"
     ]
    }
   ],
   "source": [
    "print(\"Maximum value in out of xylophone, Yolo & Zebra is :\", max(['xylophone', 'Yolo', 'Zebra']))"
   ]
  },
  {
   "cell_type": "code",
   "execution_count": 72,
   "metadata": {},
   "outputs": [
    {
     "name": "stdout",
     "output_type": "stream",
     "text": [
      "Can there be a list with no commas ? :  ['abcd'] 1\n"
     ]
    }
   ],
   "source": [
    "print(\"Can there be a list with no commas ? : \", ['a' 'b' 'c' 'd'], len(['a' 'b' 'c' 'd']))"
   ]
  },
  {
   "cell_type": "markdown",
   "metadata": {},
   "source": [
    "##### We cant catch exception error."
   ]
  },
  {
   "cell_type": "code",
   "execution_count": 79,
   "metadata": {},
   "outputs": [
    {
     "ename": "SyntaxError",
     "evalue": "invalid syntax (<ipython-input-79-7cd264d9730a>, line 3)",
     "output_type": "error",
     "traceback": [
      "\u001b[1;36m  File \u001b[1;32m\"<ipython-input-79-7cd264d9730a>\"\u001b[1;36m, line \u001b[1;32m3\u001b[0m\n\u001b[1;33m    print(\"Can there be a list with no comma seperation : \", [1 2 3 4])\u001b[0m\n\u001b[1;37m                                                                ^\u001b[0m\n\u001b[1;31mSyntaxError\u001b[0m\u001b[1;31m:\u001b[0m invalid syntax\n"
     ]
    }
   ],
   "source": [
    "def dummyFunc():\n",
    "    try:\n",
    "        print(\"Can there be a list with no comma seperation : \", [1 2 3 4])\n",
    "    except SyntaxError as error:\n",
    "        print(\"List of Numbers has to be seperated by comma\")\n",
    "        \n",
    "dummyFunc()"
   ]
  },
  {
   "cell_type": "code",
   "execution_count": null,
   "metadata": {},
   "outputs": [],
   "source": []
  }
 ],
 "metadata": {
  "kernelspec": {
   "display_name": "Python 3",
   "language": "python",
   "name": "python3"
  },
  "language_info": {
   "codemirror_mode": {
    "name": "ipython",
    "version": 3
   },
   "file_extension": ".py",
   "mimetype": "text/x-python",
   "name": "python",
   "nbconvert_exporter": "python",
   "pygments_lexer": "ipython3",
   "version": "3.6.5"
  }
 },
 "nbformat": 4,
 "nbformat_minor": 2
}
