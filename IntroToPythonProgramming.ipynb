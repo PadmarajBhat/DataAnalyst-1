{
 "cells": [
  {
   "cell_type": "markdown",
   "metadata": {},
   "source": [
    "##### Some of the python tricks which I did not know before...."
   ]
  },
  {
   "cell_type": "code",
   "execution_count": 2,
   "metadata": {},
   "outputs": [
    {
     "name": "stdout",
     "output_type": "stream",
     "text": [
      "False\n"
     ]
    }
   ],
   "source": [
    "print(0.1 + 0.1 + 0.1 == 0.3)"
   ]
  },
  {
   "cell_type": "code",
   "execution_count": 4,
   "metadata": {},
   "outputs": [
    {
     "name": "stdout",
     "output_type": "stream",
     "text": [
      "Hello Hello Hello \n"
     ]
    }
   ],
   "source": [
    "print(\"Hello \" * 3)"
   ]
  },
  {
   "cell_type": "markdown",
   "metadata": {},
   "source": [
    "##### Python Coding Standarad : https://www.python.org/dev/peps/pep-0008/"
   ]
  },
  {
   "cell_type": "code",
   "execution_count": 21,
   "metadata": {},
   "outputs": [
    {
     "name": "stdout",
     "output_type": "stream",
     "text": [
      "Single quote : ' retained \n",
      "Double quote : \" retained \n",
      "Single and Double qote reatained : \" ' \n"
     ]
    }
   ],
   "source": [
    "print(\"Single quote : ' retained \")\n",
    "print('Double quote : \" retained ')\n",
    "print(\"Single and Double qote reatained : \\\" ' \")"
   ]
  },
  {
   "cell_type": "code",
   "execution_count": 23,
   "metadata": {},
   "outputs": [
    {
     "data": {
      "text/plain": [
       "3"
      ]
     },
     "execution_count": 23,
     "metadata": {},
     "output_type": "execute_result"
    }
   ],
   "source": [
    "len(\"835\")"
   ]
  },
  {
   "cell_type": "code",
   "execution_count": 25,
   "metadata": {},
   "outputs": [
    {
     "name": "stdout",
     "output_type": "stream",
     "text": [
      "This Is All Lower Case Words But Title Function Changes It\n"
     ]
    }
   ],
   "source": [
    "print(\"this is all lower case words but title function changes it\".title())"
   ]
  },
  {
   "cell_type": "code",
   "execution_count": 31,
   "metadata": {},
   "outputs": [
    {
     "name": "stdout",
     "output_type": "stream",
     "text": [
      "6\n"
     ]
    }
   ],
   "source": [
    "print(\"she sells sea shells on the she shore but \\\n",
    "      the sea shells she sells on the she shore are not from the sea shore\"\\\n",
    "      .count('she'))"
   ]
  },
  {
   "cell_type": "code",
   "execution_count": 40,
   "metadata": {},
   "outputs": [
    {
     "name": "stdout",
     "output_type": "stream",
     "text": [
      "This is placeholder number 1 and this would be placeholder number 2.0\n"
     ]
    }
   ],
   "source": [
    "print(\"This is placeholder number {} and this would be placeholder number {}\".format(1, 2.0))"
   ]
  },
  {
   "cell_type": "code",
   "execution_count": 43,
   "metadata": {},
   "outputs": [
    {
     "name": "stdout",
     "output_type": "stream",
     "text": [
      "['This', 'string', 'is', 'going', 'to', 'be cut !!! Will there be any split of a word ???']\n"
     ]
    }
   ],
   "source": [
    "print(\"This string is going to be cut !!! Will there be any split of a word ???\".split(None,5))"
   ]
  },
  {
   "cell_type": "code",
   "execution_count": 47,
   "metadata": {},
   "outputs": [
    {
     "name": "stdout",
     "output_type": "stream",
     "text": [
      "<class 'int'>\n",
      "<class 'float'>\n",
      "<class 'str'>\n",
      "<class 'bool'>\n"
     ]
    }
   ],
   "source": [
    "list_of_random_things = [1, 3.4, 'a string', True]\n",
    "_=[print(type(x)) for x in list_of_random_things]"
   ]
  },
  {
   "cell_type": "code",
   "execution_count": 51,
   "metadata": {},
   "outputs": [
    {
     "name": "stdout",
     "output_type": "stream",
     "text": [
      "Changed list item:  1 is changed to a string\n",
      "I am mutable because I changed after my creation !!!, I am the LIST\n"
     ]
    }
   ],
   "source": [
    "try:\n",
    "    list_of_random_things[0] = \"1 is changed to a string\"\n",
    "    print(\"Changed list item: \", list_of_random_things[0])\n",
    "    print(\"I am mutable because I changed after my creation !!!, I am the LIST\")\n",
    "except:\n",
    "    print(\"This pring might not execute\")"
   ]
  },
  {
   "cell_type": "code",
   "execution_count": 49,
   "metadata": {},
   "outputs": [
    {
     "name": "stdout",
     "output_type": "stream",
     "text": [
      " I am not mutable; you cant change me.....I am string\n"
     ]
    }
   ],
   "source": [
    "try:\n",
    "    str1 = \"Hello World!!!\"\n",
    "    str1[0] = \"W\"\n",
    "    \n",
    "except:\n",
    "    print(\" I am not mutable; you cant change me.....I am string\")\n",
    "    "
   ]
  },
  {
   "cell_type": "code",
   "execution_count": null,
   "metadata": {},
   "outputs": [],
   "source": []
  }
 ],
 "metadata": {
  "kernelspec": {
   "display_name": "Python 3",
   "language": "python",
   "name": "python3"
  },
  "language_info": {
   "codemirror_mode": {
    "name": "ipython",
    "version": 3
   },
   "file_extension": ".py",
   "mimetype": "text/x-python",
   "name": "python",
   "nbconvert_exporter": "python",
   "pygments_lexer": "ipython3",
   "version": "3.6.5"
  }
 },
 "nbformat": 4,
 "nbformat_minor": 2
}
