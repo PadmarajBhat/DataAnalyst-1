{
 "cells": [
  {
   "cell_type": "markdown",
   "metadata": {},
   "source": [
    "##### Broadly there are 2 types data\n",
    "* Quantitative Data: number of dogs - has numerical data allows to do the mathematical operation on them\n",
    "* Categorical data: type of dogs - label the group"
   ]
  },
  {
   "cell_type": "markdown",
   "metadata": {},
   "source": [
    "#### Categorical data can be devided into : \n",
    "* categorical ordinal data: order in the values like rating out of 5. \n",
    "* categorical nominal data: data are grouped but there is no order like breeds of dogs. Rating for dog breed is indivisual choice. Price for the dog breed is set based on demand and supply ration but that does not make the categorical names of the breed any great or less or order in the \"names\".\n",
    "\n",
    "\n",
    "In our kaggle hourse price prediction challenge, we try to find ordinality in the columns like vnr_type. Just because we could represent the number in ordinality factor and then perform xgboost on them as if it is continuous data. \n",
    "\n",
    "IS IT CORRECT APPROACH ? IS IT TOO EARLY to ask ?"
   ]
  },
  {
   "cell_type": "markdown",
   "metadata": {},
   "source": [
    "#### Quantitative data can be devided into :\n",
    "* continuous data: can vary from -ve to +ve and can be infinitely (not literally) small.\n",
    "* descrete data: whole number but there are many values. E.g.: number of dogs cannot be 4.5. However, count can be be even in millions.\n",
    "\n",
    "Now between ordinal and descrete: \n",
    "* ordinal has limited set of value. e.g.: Dog breed name\n",
    "* descrete are indivisual values with may be logical boundaries (like dogs cannot have 5 legs though a cut leg can yield 3 legs...here cut leg cannot be half leg as it is not a leg.) Ask 2 questions: can I count it? can it be broken into smaller pieces. if the answer is yes and then no then vola!!!"
   ]
  },
  {
   "cell_type": "markdown",
   "metadata": {},
   "source": [
    "### 4 Main Aspects of Quantitative Data\n",
    "* Center\n",
    "* Spread\n",
    "* Shape\n",
    "* Outlier"
   ]
  },
  {
   "cell_type": "markdown",
   "metadata": {},
   "source": [
    "### 1.  Center : \n",
    "* Mean: average,\n",
    "* Median: middle value, \n",
    "* Mode: most occurring value."
   ]
  },
  {
   "cell_type": "markdown",
   "metadata": {},
   "source": [
    "#### Notations:\n",
    "* X: capital indicates the set of variables\n",
    "* x: small letter indicate the value in the set\n",
    "* Summation indication:"
   ]
  },
  {
   "cell_type": "markdown",
   "metadata": {},
   "source": [
    "\\begin{equation*}\n",
    "\\sum_{i=1}^n x_i\n",
    "\\end{equation*}\n",
    "\n",
    "   * Here i, varies from 1 to n and n can be any whole number\n",
    "   \n",
    "\\begin{equation*}\n",
    "\\bar x\n",
    "\\end{equation*}\n",
    "   * Here x bar indicates mean\n",
    "   \n",
    "* Hence, mean formula :\n",
    "\\begin{equation*}\n",
    "\\bar x = \\frac{1}{n} \\left( \\sum_ {i=1}^n x_i \\right)\n",
    "\\end{equation*}"
   ]
  },
  {
   "cell_type": "markdown",
   "metadata": {},
   "source": [
    "### 2. Spread: Range, Interquartile Range, Standard Deviation and Variance"
   ]
  },
  {
   "cell_type": "markdown",
   "metadata": {},
   "source": [
    "* **Histogram** is bin based and comparable with other variables for the height and width of it\n",
    "* **Box-Plot**: displays the Q3 and Q1 in a box like structure. It is like histogram turned 90 degrees.\n",
    "* **5 Number summary** : min, Q1, Q2 ( median), Q3, Max ; Q1 and Q3 are the median for the first and second half of the variable.\n",
    "#####    \n",
    "* **Range**: max - min\n",
    "* **IQR**: Q3 -Q2\n",
    "* **Standar Deviation**: On an average how dataset varies from the mean"
   ]
  },
  {
   "cell_type": "code",
   "execution_count": null,
   "metadata": {},
   "outputs": [],
   "source": []
  }
 ],
 "metadata": {
  "kernelspec": {
   "display_name": "Python 3",
   "language": "python",
   "name": "python3"
  },
  "language_info": {
   "codemirror_mode": {
    "name": "ipython",
    "version": 3
   },
   "file_extension": ".py",
   "mimetype": "text/x-python",
   "name": "python",
   "nbconvert_exporter": "python",
   "pygments_lexer": "ipython3",
   "version": "3.7.1"
  }
 },
 "nbformat": 4,
 "nbformat_minor": 2
}
