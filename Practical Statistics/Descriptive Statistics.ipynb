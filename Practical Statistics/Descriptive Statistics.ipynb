{
 "cells": [
  {
   "cell_type": "markdown",
   "metadata": {},
   "source": [
    "##### Broadly there are 2 types data\n",
    "* Quantitative Data: number of dogs - has numerical data allows to do the mathematical operation on them\n",
    "* Categorical data: type of dogs - label the group"
   ]
  },
  {
   "cell_type": "markdown",
   "metadata": {},
   "source": [
    "#### Categorical data can be devided into : \n",
    "* categorical ordinal data: order in the values like rating out of 5. \n",
    "* categorical nominal data: data are grouped but there is no order like breeds of dogs. Rating for dog breed is indivisual choice. Price for the dog breed is set based on demand and supply ration but that does not make the categorical names of the breed any great or less or order in the \"names\".\n",
    "\n",
    "\n",
    "In our kaggle hourse price prediction challenge, we try to find ordinality in the columns like vnr_type. Just because we could represent the number in ordinality factor and then perform xgboost on them as if it is continuous data. \n",
    "\n",
    "IS IT CORRECT APPROACH ? IS IT TOO EARLY to ask ?"
   ]
  },
  {
   "cell_type": "code",
   "execution_count": null,
   "metadata": {},
   "outputs": [],
   "source": []
  }
 ],
 "metadata": {
  "kernelspec": {
   "display_name": "Python 3",
   "language": "python",
   "name": "python3"
  },
  "language_info": {
   "codemirror_mode": {
    "name": "ipython",
    "version": 3
   },
   "file_extension": ".py",
   "mimetype": "text/x-python",
   "name": "python",
   "nbconvert_exporter": "python",
   "pygments_lexer": "ipython3",
   "version": "3.7.1"
  }
 },
 "nbformat": 4,
 "nbformat_minor": 2
}
