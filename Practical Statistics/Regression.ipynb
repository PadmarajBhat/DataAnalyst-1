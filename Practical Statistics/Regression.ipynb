{
 "cells": [
  {
   "cell_type": "markdown",
   "metadata": {},
   "source": [
    "# Regression:\n",
    "* Linear Regression emphasis relation betweeen 2 variables and tries to fit relation through a line. Y = mX + C, X is the independent variable and Y is the dependent variable and C is the bias normalizer.\n",
    "* Scatter Plot and Corelation coefficients are the popular metrics to determine relation beween 2 variables/features.\n",
    "* Scatter plot would have x axis as independent and y axis as the one where would like to see the pattern of the target/dependent variable. It also indicates the direction of dependency.\n",
    "* Corelation coefficients are the values between -1 to 1. where negative indicates indirect co relation and values closer to -1 and 1 indicates the max strength of the co relation."
   ]
  },
  {
   "cell_type": "code",
   "execution_count": null,
   "metadata": {},
   "outputs": [],
   "source": []
  }
 ],
 "metadata": {
  "kernelspec": {
   "display_name": "Python 3",
   "language": "python",
   "name": "python3"
  },
  "language_info": {
   "codemirror_mode": {
    "name": "ipython",
    "version": 3
   },
   "file_extension": ".py",
   "mimetype": "text/x-python",
   "name": "python",
   "nbconvert_exporter": "python",
   "pygments_lexer": "ipython3",
   "version": "3.7.1"
  }
 },
 "nbformat": 4,
 "nbformat_minor": 2
}
