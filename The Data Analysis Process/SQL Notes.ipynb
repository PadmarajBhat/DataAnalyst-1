{
 "cells": [
  {
   "cell_type": "markdown",
   "metadata": {},
   "source": [
    "##### SQL is part of term 1: we will be focussing on the key notes"
   ]
  },
  {
   "cell_type": "markdown",
   "metadata": {},
   "source": [
    "```\n",
    "SELECT col1 + col2 as sum\n",
    "FROM the_table\n",
    "WHERE col3 = 'US';\n",
    "```\n"
   ]
  },
  {
   "cell_type": "markdown",
   "metadata": {},
   "source": [
    "##### Quiz Arithmatic Operation"
   ]
  },
  {
   "cell_type": "markdown",
   "metadata": {},
   "source": [
    "```\n",
    "SELECT id, account_id, standard_amt_usd/standard_qty as unit_price\n",
    "FROM table\n",
    "LIMIT 10;\n",
    "```"
   ]
  },
  {
   "cell_type": "markdown",
   "metadata": {},
   "source": [
    "##### LIKE"
   ]
  },
  {
   "cell_type": "markdown",
   "metadata": {},
   "source": [
    "```\n",
    "SELECT * \n",
    "FROM table\n",
    "WHERE col1 LIKE '%google%'\n",
    "\n",
    "```\n",
    "To Search col1 (text column) with a word google in it"
   ]
  },
  {
   "cell_type": "markdown",
   "metadata": {},
   "source": [
    "##### IN"
   ]
  },
  {
   "cell_type": "markdown",
   "metadata": {},
   "source": [
    "```\n",
    "SELECT *\n",
    "FROM table\n",
    "WHERE col1 in (1001,1021)\n",
    "```"
   ]
  },
  {
   "cell_type": "markdown",
   "metadata": {},
   "source": [
    "##### NOT"
   ]
  },
  {
   "cell_type": "markdown",
   "metadata": {},
   "source": [
    "```\n",
    "SELECT *\n",
    "FROM table\n",
    "WHERE col1 NOT LIKE '%google%'\n",
    "```\n",
    "\n",
    "```\n",
    "SELECT * \n",
    "FROM table\n",
    "WHERE col1 NOT IN (100,200)\n",
    "ORDER BY col1 DESC\n",
    "```"
   ]
  },
  {
   "cell_type": "markdown",
   "metadata": {},
   "source": [
    "##### AND & BETWEEN"
   ]
  },
  {
   "cell_type": "markdown",
   "metadata": {},
   "source": [
    "```\n",
    "SELECT * \n",
    "FROM table\n",
    "WHERE col1 NOT IN (100,150) AND col2 BETWEEN 200 AND 300\n",
    "```"
   ]
  },
  {
   "cell_type": "markdown",
   "metadata": {},
   "source": [
    "##### OR and IN being same"
   ]
  },
  {
   "cell_type": "markdown",
   "metadata": {},
   "source": [
    "```\n",
    "SELECT *\n",
    "FROM table\n",
    "WHERE col1 in (100,200)\n",
    "```\n",
    "\n",
    "```\n",
    "SELECT * \n",
    "FROM table\n",
    "WHERE col1 = 100 OR col1 = 200\n",
    "```"
   ]
  },
  {
   "cell_type": "markdown",
   "metadata": {},
   "source": [
    "##### Inner Join"
   ]
  },
  {
   "cell_type": "markdown",
   "metadata": {},
   "source": [
    "```\n",
    "SELECT *\n",
    "FROM table1\n",
    "JOIN table2\n",
    "ON table1.col1 = table2.col2\n",
    "```"
   ]
  },
  {
   "cell_type": "markdown",
   "metadata": {},
   "source": [
    "##### Join multiple tables"
   ]
  },
  {
   "cell_type": "markdown",
   "metadata": {},
   "source": [
    "```\n",
    "SELECT table1.col2, table2.col4, table3.col6\n",
    "FROM table1\n",
    "JOIN table2\n",
    "on table1.col1 = tables2.col2\n",
    "JOIN table3\n",
    "on table2.col2 = table3.col3\n",
    "```"
   ]
  },
  {
   "cell_type": "markdown",
   "metadata": {},
   "source": [
    "```\n",
    "SELECT t1.col2, t2.col4, t3.col6\n",
    "FROM table1 t1\n",
    "JOIN table2 t2\n",
    "on t1.col1 = t2.col2\n",
    "JOIN table3 t3\n",
    "on t2.col2 = t3.col3\n",
    "```"
   ]
  },
  {
   "cell_type": "markdown",
   "metadata": {},
   "source": [
    "##### Left outer join an left join are same"
   ]
  },
  {
   "cell_type": "markdown",
   "metadata": {},
   "source": [
    "```\n",
    "SELCT t1.col1, t2.col2\n",
    "FROM table1 t1\n",
    "LEFT JOIN  table2 t2\n",
    "ON t1.col1 = t2.col1\n",
    "```"
   ]
  },
  {
   "cell_type": "markdown",
   "metadata": {},
   "source": [
    "##### joining and filtering together: subsets it first (even before to where clause)"
   ]
  },
  {
   "cell_type": "markdown",
   "metadata": {},
   "source": [
    "```\n",
    "SELECT t1.c1, t2.c2\n",
    "FROM table1 t1\n",
    "JOIN table2 t2\n",
    "on t1.c1 = t2.c1 and t1.c1 == 100\n",
    "```"
   ]
  },
  {
   "cell_type": "markdown",
   "metadata": {},
   "source": [
    "##### Union : generates unique rows"
   ]
  },
  {
   "cell_type": "markdown",
   "metadata": {},
   "source": [
    "```\n",
    "SELECT t1.c1\n",
    "FROM table1 t1\n",
    "UNION\n",
    "SELECT t2.c1\n",
    "FROM table2 t2\n",
    "```"
   ]
  },
  {
   "cell_type": "markdown",
   "metadata": {},
   "source": [
    "##### UNION ALL: generates duplicate rows as well"
   ]
  },
  {
   "cell_type": "markdown",
   "metadata": {},
   "source": [
    "##### CROSS JOIN: when 2 atomic table grow on their own , there may be scenario we check the permutation of it. for e.g. rules and regularization to all the department."
   ]
  },
  {
   "cell_type": "markdown",
   "metadata": {},
   "source": [
    "```\n",
    "SELECT *\n",
    "FROM table1 t1\n",
    "CROSS JOIN table2 t2\n",
    "```"
   ]
  },
  {
   "cell_type": "markdown",
   "metadata": {},
   "source": [
    "##### SELF JOIN"
   ]
  },
  {
   "cell_type": "markdown",
   "metadata": {},
   "source": [
    "```\n",
    "SELECT * \n",
    "FROM table1 t1, table1 t2\n",
    "WHERE t1.city = t2.city and t1.id <> t2.id\n",
    "```\n",
    "##### To list all the id with same city. As a replacement to group by"
   ]
  },
  {
   "cell_type": "code",
   "execution_count": null,
   "metadata": {},
   "outputs": [],
   "source": []
  }
 ],
 "metadata": {
  "kernelspec": {
   "display_name": "Python 3",
   "language": "python",
   "name": "python3"
  },
  "language_info": {
   "codemirror_mode": {
    "name": "ipython",
    "version": 3
   },
   "file_extension": ".py",
   "mimetype": "text/x-python",
   "name": "python",
   "nbconvert_exporter": "python",
   "pygments_lexer": "ipython3",
   "version": "3.6.5"
  }
 },
 "nbformat": 4,
 "nbformat_minor": 2
}
