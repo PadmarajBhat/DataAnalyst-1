{
 "cells": [
  {
   "cell_type": "markdown",
   "metadata": {},
   "source": [
    "##### SQL is part of term 1: we will be focussing on the key notes"
   ]
  },
  {
   "cell_type": "markdown",
   "metadata": {},
   "source": [
    "```\n",
    "SELECT col1 + col2 as sum\n",
    "FROM the_table\n",
    "WHERE col3 = 'US';\n",
    "```\n"
   ]
  },
  {
   "cell_type": "markdown",
   "metadata": {},
   "source": [
    "##### Quiz Arithmatic Operation"
   ]
  },
  {
   "cell_type": "markdown",
   "metadata": {},
   "source": [
    "```\n",
    "SELECT id, account_id, standard_amt_usd/standard_qty as unit_price\n",
    "FROM table\n",
    "LIMIT 10;\n",
    "```"
   ]
  },
  {
   "cell_type": "markdown",
   "metadata": {},
   "source": [
    "##### LIKE"
   ]
  },
  {
   "cell_type": "markdown",
   "metadata": {},
   "source": [
    "```\n",
    "SELECT * \n",
    "FROM table\n",
    "WHERE col1 LIKE '%google%'\n",
    "\n",
    "```\n",
    "To Search col1 (text column) with a word google in it"
   ]
  },
  {
   "cell_type": "markdown",
   "metadata": {},
   "source": [
    "##### IN"
   ]
  },
  {
   "cell_type": "markdown",
   "metadata": {},
   "source": [
    "```\n",
    "SELECT *\n",
    "FROM table\n",
    "WHERE col1 in (1001,1021)\n",
    "```"
   ]
  },
  {
   "cell_type": "markdown",
   "metadata": {},
   "source": [
    "##### NOT"
   ]
  },
  {
   "cell_type": "markdown",
   "metadata": {},
   "source": [
    "```\n",
    "SELECT *\n",
    "FROM table\n",
    "WHERE col1 NOT LIKE '%google%'\n",
    "```\n",
    "\n",
    "```\n",
    "SELECT * \n",
    "FROM table\n",
    "WHERE col1 NOT IN (100,200)\n",
    "ORDER BY col1 DESC\n",
    "```"
   ]
  },
  {
   "cell_type": "markdown",
   "metadata": {},
   "source": [
    "##### AND & BETWEEN"
   ]
  },
  {
   "cell_type": "markdown",
   "metadata": {},
   "source": [
    "```\n",
    "SELECT * \n",
    "FROM table\n",
    "WHERE col1 NOT IN (100,150) AND col2 BETWEEN 200 AND 300\n",
    "```"
   ]
  },
  {
   "cell_type": "markdown",
   "metadata": {},
   "source": [
    "##### OR and IN being same"
   ]
  },
  {
   "cell_type": "markdown",
   "metadata": {},
   "source": [
    "```\n",
    "SELECT *\n",
    "FROM table\n",
    "WHERE col1 in (100,200)\n",
    "```\n",
    "\n",
    "```\n",
    "SELECT * \n",
    "FROM table\n",
    "WHERE col1 = 100 OR col1 = 200\n",
    "```"
   ]
  },
  {
   "cell_type": "markdown",
   "metadata": {},
   "source": [
    "### Joins"
   ]
  },
  {
   "cell_type": "markdown",
   "metadata": {},
   "source": [
    "##### Inner Join"
   ]
  },
  {
   "cell_type": "markdown",
   "metadata": {},
   "source": [
    "```\n",
    "SELECT *\n",
    "FROM table1\n",
    "JOIN table2\n",
    "ON table1.col1 = table2.col2\n",
    "```"
   ]
  },
  {
   "cell_type": "markdown",
   "metadata": {},
   "source": [
    "##### Join multiple tables"
   ]
  },
  {
   "cell_type": "markdown",
   "metadata": {},
   "source": [
    "```\n",
    "SELECT table1.col2, table2.col4, table3.col6\n",
    "FROM table1\n",
    "JOIN table2\n",
    "on table1.col1 = tables2.col2\n",
    "JOIN table3\n",
    "on table2.col2 = table3.col3\n",
    "```"
   ]
  },
  {
   "cell_type": "markdown",
   "metadata": {},
   "source": [
    "```\n",
    "SELECT t1.col2, t2.col4, t3.col6\n",
    "FROM table1 t1\n",
    "JOIN table2 t2\n",
    "on t1.col1 = t2.col2\n",
    "JOIN table3 t3\n",
    "on t2.col2 = t3.col3\n",
    "```"
   ]
  },
  {
   "cell_type": "markdown",
   "metadata": {},
   "source": [
    "##### Left outer join an left join are same"
   ]
  },
  {
   "cell_type": "markdown",
   "metadata": {},
   "source": [
    "```\n",
    "SELCT t1.col1, t2.col2\n",
    "FROM table1 t1\n",
    "LEFT JOIN  table2 t2\n",
    "ON t1.col1 = t2.col1\n",
    "```"
   ]
  },
  {
   "cell_type": "markdown",
   "metadata": {},
   "source": [
    "##### joining and filtering together: subsets it first (even before to where clause)"
   ]
  },
  {
   "cell_type": "markdown",
   "metadata": {},
   "source": [
    "```\n",
    "SELECT t1.c1, t2.c2\n",
    "FROM table1 t1\n",
    "JOIN table2 t2\n",
    "on t1.c1 = t2.c1 and t1.c1 == 100\n",
    "```"
   ]
  },
  {
   "cell_type": "markdown",
   "metadata": {},
   "source": [
    "##### Union : generates unique rows"
   ]
  },
  {
   "cell_type": "markdown",
   "metadata": {},
   "source": [
    "```\n",
    "SELECT t1.c1\n",
    "FROM table1 t1\n",
    "UNION\n",
    "SELECT t2.c1\n",
    "FROM table2 t2\n",
    "```"
   ]
  },
  {
   "cell_type": "markdown",
   "metadata": {},
   "source": [
    "##### UNION ALL: generates duplicate rows as well"
   ]
  },
  {
   "cell_type": "markdown",
   "metadata": {},
   "source": [
    "##### CROSS JOIN: when 2 atomic table grow on their own , there may be scenario we check the permutation of it. for e.g. rules and regularization to all the department."
   ]
  },
  {
   "cell_type": "markdown",
   "metadata": {},
   "source": [
    "```\n",
    "SELECT *\n",
    "FROM table1 t1\n",
    "CROSS JOIN table2 t2\n",
    "```"
   ]
  },
  {
   "cell_type": "markdown",
   "metadata": {},
   "source": [
    "##### SELF JOIN"
   ]
  },
  {
   "cell_type": "markdown",
   "metadata": {},
   "source": [
    "```\n",
    "SELECT * \n",
    "FROM table1 t1, table1 t2\n",
    "WHERE t1.city = t2.city and t1.id <> t2.id\n",
    "```\n",
    "##### To list all the id with same city. As a replacement to group by"
   ]
  },
  {
   "cell_type": "markdown",
   "metadata": {},
   "source": [
    "### Aggregation"
   ]
  },
  {
   "cell_type": "markdown",
   "metadata": {},
   "source": [
    "##### Nulls"
   ]
  },
  {
   "cell_type": "markdown",
   "metadata": {},
   "source": [
    "```\n",
    "SELECT *\n",
    "FROM table1 t1\n",
    "WHERE t1 IS NOT NULL\n",
    "```"
   ]
  },
  {
   "cell_type": "markdown",
   "metadata": {},
   "source": [
    "##### Count"
   ]
  },
  {
   "cell_type": "markdown",
   "metadata": {},
   "source": [
    "```\n",
    "SELECT COUNT(*) total_new_joiner\n",
    "FROM table as t1\n",
    "WHERE t1.id > 2000\n",
    "```"
   ]
  },
  {
   "cell_type": "markdown",
   "metadata": {},
   "source": [
    "##### COUNT(*) is not equal to COUNT(col1); if the column has NULL values "
   ]
  },
  {
   "cell_type": "markdown",
   "metadata": {},
   "source": [
    "##### SUM"
   ]
  },
  {
   "cell_type": "markdown",
   "metadata": {},
   "source": [
    "```\n",
    "SELECT SUM(t1.marks) total_marks\n",
    "FROM table as t1\n",
    "WHERE t1.dep_id == 100\n",
    "```\n",
    "##### SUM will treat NULL as 0"
   ]
  },
  {
   "cell_type": "markdown",
   "metadata": {},
   "source": [
    "##### Min & Max"
   ]
  },
  {
   "cell_type": "markdown",
   "metadata": {},
   "source": [
    "```\n",
    "SELECT MIN(c.population) low_population,\n",
    "        MAX(c. population) high_population,\n",
    "        c.continent_id\n",
    "\n",
    "FROM continent as c        \n",
    "```"
   ]
  },
  {
   "cell_type": "markdown",
   "metadata": {},
   "source": [
    "##### AVG: ignores null values all together; nor in numerator or denominator"
   ]
  },
  {
   "cell_type": "markdown",
   "metadata": {},
   "source": [
    "##### Median"
   ]
  },
  {
   "cell_type": "markdown",
   "metadata": {},
   "source": [
    "```\n",
    "SELECT count(*)\n",
    "FROM table1\n",
    "\n",
    "```\n",
    "##### Note the value and divide by 2. Again note the devisor\n",
    "```\n",
    "SELECT *\n",
    "FROM (SELECT col1 FROM table1 ORDER BY col1 LIMIT divisor) as table_new\n",
    "order by col1 desc\n",
    "LIMIT 2\n",
    "```"
   ]
  },
  {
   "cell_type": "markdown",
   "metadata": {},
   "source": [
    "##### GROUP BY"
   ]
  },
  {
   "cell_type": "markdown",
   "metadata": {},
   "source": [
    "It lies between WHERE and ORDER BY and must be included if the SELECT statement includes columns which are NOT aggregated."
   ]
  },
  {
   "cell_type": "markdown",
   "metadata": {},
   "source": [
    "```\n",
    "SELECT t1.c1, t1.c2, SUM(t1.c3) Total\n",
    "FROM table1 t1\n",
    "GROUP BY t1.c1, t1.c2\n",
    "```"
   ]
  },
  {
   "cell_type": "markdown",
   "metadata": {},
   "source": [
    "##### DISTINCT"
   ]
  },
  {
   "cell_type": "markdown",
   "metadata": {},
   "source": [
    "```\n",
    "SELECT DISTINCT c1 , c2\n",
    "FROM table\n",
    "```"
   ]
  },
  {
   "cell_type": "markdown",
   "metadata": {},
   "source": [
    "DISTINCT removes the dependency of the aggregator function in select clause ; if only group by was the intent."
   ]
  },
  {
   "cell_type": "markdown",
   "metadata": {},
   "source": [
    "##### HAVING"
   ]
  },
  {
   "cell_type": "markdown",
   "metadata": {},
   "source": [
    "```\n",
    "SELECT COUNT(*) num_gt_5_cnt\n",
    "FROM ( SELECT COUNT(*) gt_5\n",
    "        FROM table_old to\n",
    "        group by to.id\n",
    "        having count(*) > 5\n",
    ") as table1 t1\n",
    "GROUP BY t1.gt_5\n",
    "\n",
    "```\n",
    "##### To print number of id > 5 sets"
   ]
  },
  {
   "cell_type": "markdown",
   "metadata": {},
   "source": [
    "##### DATE_TRUNC"
   ]
  },
  {
   "cell_type": "markdown",
   "metadata": {},
   "source": [
    "```\n",
    "SELECT DATE_TRUNC('year', col_datetime), SUM(col2)\n",
    "FROM table\n",
    "GROUP BY 1\n",
    "ORDER BY 2 DESC\n",
    "```"
   ]
  },
  {
   "cell_type": "markdown",
   "metadata": {},
   "source": [
    "DATE_PART : takes the portion of the date leaving rest . "
   ]
  },
  {
   "cell_type": "markdown",
   "metadata": {},
   "source": [
    "##### CASE (equivalent to if condition in pgming)"
   ]
  },
  {
   "cell_type": "markdown",
   "metadata": {},
   "source": [
    "```\n",
    "SELECT CASE WHEN t1.c1 > 90 THEN 'A+'\n",
    "            WHEN t1.c1 > 50 and t1.c1 < 90 THEN 'A'\n",
    "            END as grades\n",
    "FROM table1 t1\n",
    "ORDER BY 1 \n",
    "```"
   ]
  },
  {
   "cell_type": "markdown",
   "metadata": {},
   "source": [
    "##### Subquery (nothing but one query output forms the table of another query)"
   ]
  },
  {
   "cell_type": "markdown",
   "metadata": {},
   "source": [
    "###### To list the activities per day per channel\n",
    "```\n",
    "SELECT DATE_TRUNC('day',datetime_col) 'day', channel, count(*) num_of_events\n",
    "FROM event_table\n",
    "GROUP BY 2,1\n",
    "```\n",
    "\n",
    "##### To get the average activities per channel\n",
    "```\n",
    "SELECT channel, AVG(num_of_events)\n",
    "FROM (SELECT DATE_TRUNC('day',datetime_col) 'day', channel, count(*) num_of_events\n",
    "        FROM event_table\n",
    "        GROUP BY 2,1) sub\n",
    "GROUP By 1\n",
    "ORDER BY 2\n",
    "```"
   ]
  },
  {
   "cell_type": "code",
   "execution_count": null,
   "metadata": {},
   "outputs": [],
   "source": []
  }
 ],
 "metadata": {
  "kernelspec": {
   "display_name": "Python 3",
   "language": "python",
   "name": "python3"
  },
  "language_info": {
   "codemirror_mode": {
    "name": "ipython",
    "version": 3
   },
   "file_extension": ".py",
   "mimetype": "text/x-python",
   "name": "python",
   "nbconvert_exporter": "python",
   "pygments_lexer": "ipython3",
   "version": "3.6.5"
  }
 },
 "nbformat": 4,
 "nbformat_minor": 2
}
