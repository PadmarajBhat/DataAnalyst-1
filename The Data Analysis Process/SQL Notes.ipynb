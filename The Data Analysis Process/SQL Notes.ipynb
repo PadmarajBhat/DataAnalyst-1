{
 "cells": [
  {
   "cell_type": "markdown",
   "metadata": {},
   "source": [
    "##### SQL is part of term 1: we will be focussing on the key notes"
   ]
  },
  {
   "cell_type": "markdown",
   "metadata": {},
   "source": [
    "```\n",
    "SELECT col1 + col2 as sum\n",
    "FROM the_table\n",
    "WHERE col3 = 'US';\n",
    "```\n"
   ]
  },
  {
   "cell_type": "markdown",
   "metadata": {},
   "source": [
    "##### Quiz Arithmatic Operation"
   ]
  },
  {
   "cell_type": "markdown",
   "metadata": {},
   "source": [
    "```\n",
    "SELECT id, account_id, standard_amt_usd/standard_qty as unit_price\n",
    "FROM table\n",
    "LIMIT 10;\n",
    "```"
   ]
  },
  {
   "cell_type": "markdown",
   "metadata": {},
   "source": [
    "##### LIKE"
   ]
  },
  {
   "cell_type": "markdown",
   "metadata": {},
   "source": [
    "```\n",
    "SELECT * \n",
    "FROM table\n",
    "WHERE col1 LIKE '%google%'\n",
    "\n",
    "```\n",
    "To Search col1 (text column) with a word google in it"
   ]
  },
  {
   "cell_type": "markdown",
   "metadata": {},
   "source": [
    "##### IN"
   ]
  },
  {
   "cell_type": "markdown",
   "metadata": {},
   "source": [
    "```\n",
    "SELECT *\n",
    "FROM table\n",
    "WHERE col1 in (1001,1021)\n",
    "```"
   ]
  },
  {
   "cell_type": "markdown",
   "metadata": {},
   "source": [
    "##### NOT"
   ]
  },
  {
   "cell_type": "markdown",
   "metadata": {},
   "source": [
    "```\n",
    "SELECT *\n",
    "FROM table\n",
    "WHERE col1 NOT LIKE '%google%'\n",
    "```\n",
    "\n",
    "```\n",
    "SELECT * \n",
    "FROM table\n",
    "WHERE col1 NOT IN (100,200)\n",
    "ORDER BY col1 DESC\n",
    "```"
   ]
  },
  {
   "cell_type": "markdown",
   "metadata": {},
   "source": [
    "##### AND & BETWEEN"
   ]
  },
  {
   "cell_type": "markdown",
   "metadata": {},
   "source": [
    "```\n",
    "SELECT * \n",
    "FROM table\n",
    "WHERE col1 NOT IN (100,150) AND col2 BETWEEN 200 AND 300\n",
    "```"
   ]
  },
  {
   "cell_type": "markdown",
   "metadata": {},
   "source": [
    "##### OR and IN being same"
   ]
  },
  {
   "cell_type": "markdown",
   "metadata": {},
   "source": [
    "```\n",
    "SELECT *\n",
    "FROM table\n",
    "WHERE col1 in (100,200)\n",
    "```\n",
    "\n",
    "```\n",
    "SELECT * \n",
    "FROM table\n",
    "WHERE col1 = 100 OR col1 = 200\n",
    "```"
   ]
  },
  {
   "cell_type": "markdown",
   "metadata": {},
   "source": [
    "### Joins"
   ]
  },
  {
   "cell_type": "markdown",
   "metadata": {},
   "source": [
    "##### Inner Join"
   ]
  },
  {
   "cell_type": "markdown",
   "metadata": {},
   "source": [
    "```\n",
    "SELECT *\n",
    "FROM table1\n",
    "JOIN table2\n",
    "ON table1.col1 = table2.col2\n",
    "```"
   ]
  },
  {
   "cell_type": "markdown",
   "metadata": {},
   "source": [
    "##### Join multiple tables"
   ]
  },
  {
   "cell_type": "markdown",
   "metadata": {},
   "source": [
    "```\n",
    "SELECT table1.col2, table2.col4, table3.col6\n",
    "FROM table1\n",
    "JOIN table2\n",
    "on table1.col1 = tables2.col2\n",
    "JOIN table3\n",
    "on table2.col2 = table3.col3\n",
    "```"
   ]
  },
  {
   "cell_type": "markdown",
   "metadata": {},
   "source": [
    "```\n",
    "SELECT t1.col2, t2.col4, t3.col6\n",
    "FROM table1 t1\n",
    "JOIN table2 t2\n",
    "on t1.col1 = t2.col2\n",
    "JOIN table3 t3\n",
    "on t2.col2 = t3.col3\n",
    "```"
   ]
  },
  {
   "cell_type": "markdown",
   "metadata": {},
   "source": [
    "##### Left outer join an left join are same"
   ]
  },
  {
   "cell_type": "markdown",
   "metadata": {},
   "source": [
    "```\n",
    "SELCT t1.col1, t2.col2\n",
    "FROM table1 t1\n",
    "LEFT JOIN  table2 t2\n",
    "ON t1.col1 = t2.col1\n",
    "```"
   ]
  },
  {
   "cell_type": "markdown",
   "metadata": {},
   "source": [
    "##### joining and filtering together: subsets it first (even before to where clause)"
   ]
  },
  {
   "cell_type": "markdown",
   "metadata": {},
   "source": [
    "```\n",
    "SELECT t1.c1, t2.c2\n",
    "FROM table1 t1\n",
    "JOIN table2 t2\n",
    "on t1.c1 = t2.c1 and t1.c1 == 100\n",
    "```"
   ]
  },
  {
   "cell_type": "markdown",
   "metadata": {},
   "source": [
    "##### Union : generates unique rows"
   ]
  },
  {
   "cell_type": "markdown",
   "metadata": {},
   "source": [
    "```\n",
    "SELECT t1.c1\n",
    "FROM table1 t1\n",
    "UNION\n",
    "SELECT t2.c1\n",
    "FROM table2 t2\n",
    "```"
   ]
  },
  {
   "cell_type": "markdown",
   "metadata": {},
   "source": [
    "##### UNION ALL: generates duplicate rows as well"
   ]
  },
  {
   "cell_type": "markdown",
   "metadata": {},
   "source": [
    "##### CROSS JOIN: when 2 atomic table grow on their own , there may be scenario we check the permutation of it. for e.g. rules and regularization to all the department."
   ]
  },
  {
   "cell_type": "markdown",
   "metadata": {},
   "source": [
    "```\n",
    "SELECT *\n",
    "FROM table1 t1\n",
    "CROSS JOIN table2 t2\n",
    "```"
   ]
  },
  {
   "cell_type": "markdown",
   "metadata": {},
   "source": [
    "##### SELF JOIN"
   ]
  },
  {
   "cell_type": "markdown",
   "metadata": {},
   "source": [
    "```\n",
    "SELECT * \n",
    "FROM table1 t1, table1 t2\n",
    "WHERE t1.city = t2.city and t1.id <> t2.id\n",
    "```\n",
    "##### To list all the id with same city. As a replacement to group by"
   ]
  },
  {
   "cell_type": "markdown",
   "metadata": {},
   "source": [
    "### Aggregation"
   ]
  },
  {
   "cell_type": "markdown",
   "metadata": {},
   "source": [
    "##### Nulls"
   ]
  },
  {
   "cell_type": "markdown",
   "metadata": {},
   "source": [
    "```\n",
    "SELECT *\n",
    "FROM table1 t1\n",
    "WHERE t1 IS NOT NULL\n",
    "```"
   ]
  },
  {
   "cell_type": "markdown",
   "metadata": {},
   "source": [
    "##### Count"
   ]
  },
  {
   "cell_type": "markdown",
   "metadata": {},
   "source": [
    "```\n",
    "SELECT COUNT(*) total_new_joiner\n",
    "FROM table as t1\n",
    "WHERE t1.id > 2000\n",
    "```"
   ]
  },
  {
   "cell_type": "markdown",
   "metadata": {},
   "source": [
    "##### COUNT(*) is not equal to COUNT(col1); if the column has NULL values "
   ]
  },
  {
   "cell_type": "markdown",
   "metadata": {},
   "source": [
    "##### SUM"
   ]
  },
  {
   "cell_type": "markdown",
   "metadata": {},
   "source": [
    "```\n",
    "SELECT SUM(t1.marks) total_marks\n",
    "FROM table as t1\n",
    "WHERE t1.dep_id == 100\n",
    "```\n",
    "##### SUM will treat NULL as 0"
   ]
  },
  {
   "cell_type": "markdown",
   "metadata": {},
   "source": [
    "##### Min & Max"
   ]
  },
  {
   "cell_type": "markdown",
   "metadata": {},
   "source": [
    "```\n",
    "SELECT MIN(c.population) low_population,\n",
    "        MAX(c. population) high_population,\n",
    "        c.continent_id\n",
    "\n",
    "FROM continent as c        \n",
    "```"
   ]
  },
  {
   "cell_type": "markdown",
   "metadata": {},
   "source": [
    "##### AVG: ignores null values all together; nor in numerator or denominator"
   ]
  },
  {
   "cell_type": "markdown",
   "metadata": {},
   "source": [
    "##### Median"
   ]
  },
  {
   "cell_type": "markdown",
   "metadata": {},
   "source": [
    "```\n",
    "SELECT count(*)\n",
    "FROM table1\n",
    "\n",
    "```\n",
    "##### Note the value and divide by 2. Again note the devisor\n",
    "```\n",
    "SELECT *\n",
    "FROM (SELECT col1 FROM table1 ORDER BY col1 LIMIT divisor) as table_new\n",
    "order by col1 desc\n",
    "LIMIT 2\n",
    "```"
   ]
  },
  {
   "cell_type": "markdown",
   "metadata": {},
   "source": [
    "##### GROUP BY"
   ]
  },
  {
   "cell_type": "markdown",
   "metadata": {},
   "source": [
    "It lies between WHERE and ORDER BY and must be included if the SELECT statement includes columns which are NOT aggregated."
   ]
  },
  {
   "cell_type": "markdown",
   "metadata": {},
   "source": [
    "```\n",
    "SELECT t1.c1, t1.c2, SUM(t1.c3) Total\n",
    "FROM table1 t1\n",
    "GROUP BY t1.c1, t1.c2\n",
    "```"
   ]
  },
  {
   "cell_type": "markdown",
   "metadata": {},
   "source": [
    "##### DISTINCT"
   ]
  },
  {
   "cell_type": "markdown",
   "metadata": {},
   "source": [
    "```\n",
    "SELECT DISTINCT c1 , c2\n",
    "FROM table\n",
    "```"
   ]
  },
  {
   "cell_type": "markdown",
   "metadata": {},
   "source": [
    "DISTINCT removes the dependency of the aggregator function in select clause ; if only group by was the intent."
   ]
  },
  {
   "cell_type": "markdown",
   "metadata": {},
   "source": [
    "##### HAVING"
   ]
  },
  {
   "cell_type": "markdown",
   "metadata": {},
   "source": [
    "```\n",
    "SELECT COUNT(*) num_gt_5_cnt\n",
    "FROM ( SELECT COUNT(*) gt_5\n",
    "        FROM table_old to\n",
    "        group by to.id\n",
    "        having count(*) > 5\n",
    ") as table1 t1\n",
    "GROUP BY t1.gt_5\n",
    "\n",
    "```\n",
    "##### To print number of id > 5 sets"
   ]
  },
  {
   "cell_type": "markdown",
   "metadata": {},
   "source": [
    "##### DATE_TRUNC"
   ]
  },
  {
   "cell_type": "markdown",
   "metadata": {},
   "source": [
    "```\n",
    "SELECT DATE_TRUNC('year', col_datetime), SUM(col2)\n",
    "FROM table\n",
    "GROUP BY 1\n",
    "ORDER BY 2 DESC\n",
    "```"
   ]
  },
  {
   "cell_type": "markdown",
   "metadata": {},
   "source": [
    "DATE_PART : takes the portion of the date leaving rest . "
   ]
  },
  {
   "cell_type": "markdown",
   "metadata": {},
   "source": [
    "##### CASE (equivalent to if condition in pgming)"
   ]
  },
  {
   "cell_type": "markdown",
   "metadata": {},
   "source": [
    "```\n",
    "SELECT CASE WHEN t1.c1 > 90 THEN 'A+'\n",
    "            WHEN t1.c1 > 50 and t1.c1 < 90 THEN 'A'\n",
    "            END as grades\n",
    "FROM table1 t1\n",
    "ORDER BY 1 \n",
    "```"
   ]
  },
  {
   "cell_type": "markdown",
   "metadata": {},
   "source": [
    "##### Subquery (nothing but one query output forms the table of another query)"
   ]
  },
  {
   "cell_type": "markdown",
   "metadata": {},
   "source": [
    "###### To list the activities per day per channel\n",
    "```\n",
    "SELECT DATE_TRUNC('day',datetime_col) 'day', channel, count(*) num_of_events\n",
    "FROM event_table\n",
    "GROUP BY 2,1\n",
    "```\n",
    "\n",
    "##### To get the average activities per channel\n",
    "```\n",
    "SELECT channel, AVG(num_of_events)\n",
    "FROM (SELECT DATE_TRUNC('day',datetime_col) 'day', channel, count(*) num_of_events\n",
    "        FROM event_table\n",
    "        GROUP BY 2,1) sub\n",
    "GROUP By 1\n",
    "ORDER BY 2\n",
    "```"
   ]
  },
  {
   "cell_type": "markdown",
   "metadata": {},
   "source": [
    "##### Subquery in WHERE Clause\n",
    "```\n",
    "SELECT *\n",
    "FROM table1\n",
    "WHERE c1 = (SELECT MAX(c2)\n",
    "            FROM table1\n",
    "            )\n",
    "```"
   ]
  },
  {
   "cell_type": "markdown",
   "metadata": {},
   "source": [
    "##### Joining subqueries\n",
    "```\n",
    "SELECT *\n",
    "FROM (\n",
    "      ( SELECT c2, MAX(c1)\n",
    "          FROM table1 as t1\n",
    "      ) tab1\n",
    "JOIN (\n",
    "      SELECT c2, MIN(C1)\n",
    "      FROM table1 as t1\n",
    "      ) tab2\n",
    "ON tab1.c2 != tab2.c2\n",
    ") new_tab\n",
    "```\n",
    "##### I am assuming that above will have both max in min output of a table which can be done through UNION easily."
   ]
  },
  {
   "cell_type": "markdown",
   "metadata": {},
   "source": [
    "##### Saving Subquery\n",
    "```\n",
    "WITH sub1 as (SELECT age, count(*) num_of_ppl\n",
    "FROM students\n",
    "GROUP BY age\n",
    "ORDER BY 2 DESC)\n",
    "\n",
    "SELECT age , num_of_ppl\n",
    "FROM sub1\n",
    "LIMIT 5\n",
    "```\n",
    "##### Top 5 age group for pupils\n",
    "\n",
    "```\n",
    "SELECT age , num_of_ppl\n",
    "FROM sub1\n",
    "ORDER BY num_of_ppl DESC\n",
    "LIMIT 5\n",
    "```\n",
    "##### Re using the sub query for the bottom 5 age group for pupils."
   ]
  },
  {
   "cell_type": "markdown",
   "metadata": {},
   "source": [
    "##### LEFT& RIGHT function"
   ]
  },
  {
   "cell_type": "markdown",
   "metadata": {},
   "source": [
    "```\n",
    "SELECT LEFT(pan_number, 3), COUNT(*) series_count\n",
    "FROM PAN\n",
    "GROUP BY 1\n",
    "ORDER BY 2 DESC\n",
    "```\n",
    "\n",
    "```\n",
    "SELECT RIGHT(url,3), COUNT(*) domain_count\n",
    "FROM WEBSITE_LIST\n",
    "GROUP BY 1\n",
    "ORDER BY 2 DESC\n",
    "```\n",
    "##### Assuming that website have only 2 char extention"
   ]
  },
  {
   "cell_type": "markdown",
   "metadata": {},
   "source": [
    "##### STRPOS, POSITION, LENGTH"
   ]
  },
  {
   "cell_type": "markdown",
   "metadata": {},
   "source": [
    "```\n",
    "SELECT RIGHT(email_id, STRPOS(email_id, '@')) email_provider, COUNT(*) mail_vendor_count\n",
    "FROM PERSONAL_INFO\n",
    "```\n",
    "\n",
    "```\n",
    "SELECT LEFT(email_id, STRPOS(email_id, '@')-1) id, LENGTH(LEFT(email_id, STRPOS(email_id, '@')-1)) id_length\n",
    "FROM EMAIL_REPO\n",
    "```"
   ]
  },
  {
   "cell_type": "markdown",
   "metadata": {},
   "source": [
    "##### CONCAT or ||"
   ]
  },
  {
   "cell_type": "markdown",
   "metadata": {},
   "source": [
    "```\n",
    "SELECT first_name || last_name full_name\n",
    "FROM employee \n",
    "\n",
    "SELECT CONCAT(first,last) full_name\n",
    "FROM employee\n",
    "```"
   ]
  },
  {
   "cell_type": "markdown",
   "metadata": {},
   "source": [
    "##### CAST or ::"
   ]
  },
  {
   "cell_type": "markdown",
   "metadata": {},
   "source": [
    "```\n",
    "SELECT CAST(year_col||'-'||month_col||'-'||date_column as date) formated_date\n",
    "FROM some_table\n",
    "\n",
    "\n",
    "\n",
    "SELECT (year_col||'-'||month_col||'-'||date_column):: date formated_date\n",
    "FROM some_table\n",
    "```"
   ]
  },
  {
   "cell_type": "markdown",
   "metadata": {},
   "source": [
    "##### COALESCE"
   ]
  },
  {
   "cell_type": "markdown",
   "metadata": {},
   "source": [
    "```\n",
    "SELECT COALESCE(col1, 0)\n",
    "FROM table1\n",
    "WHERE col1 is null\n",
    "```\n",
    "##### We would see col1 as 0\n"
   ]
  },
  {
   "cell_type": "markdown",
   "metadata": {},
   "source": [
    "#### Window functiton: PARTITION BY acts as GROUP BY clause at SELECT statement\n",
    "\n",
    "##### with +over+runs+wickets+ as table\n",
    "\n",
    "```\n",
    "SELECT overs, SUM(runs) OVER (PARTITION BY wickets ORDER BY overs) total_runs_between_wickets\n",
    "FROM SCORECARD\n",
    "```"
   ]
  },
  {
   "cell_type": "markdown",
   "metadata": {},
   "source": [
    "##### ROW_NUMBER() and RANK :\n",
    "\n",
    "```\n",
    "SELECT ROW_NUMBER() OVER (PARTITION BY dept_id ORDER BY dept_id) row_number\n",
    "FROM employee\n",
    "\n",
    "\n",
    "SELECT RANK() OVER (PARTITION BY dept_id ORDER BY dept_id) rank_number\n",
    "FROM employee\n",
    "```\n",
    "##### RANK gives the same value to 2 rows if they are same where are row_number shows unique numbers for rows.\n",
    "\n",
    "```\n",
    "SELECT overs, SUM(runs) OVER (PARTITION BY wickets ORDER BY overs) total_runs_between_wickets,\n",
    "\t\tMAX(runs) OVER (PARTITION BY wickets ORDER BY overs) max_runs_between_wickets,\n",
    "\t\tMin(runs) OVER (PARTITION BY wickets ORDER BY overs) max_runs_between_wickets,\n",
    "\t\t\n",
    "FROM SCORECARD\n",
    "```\n",
    "##### Between 2 wickets fall per over min and max score along with total score."
   ]
  },
  {
   "cell_type": "markdown",
   "metadata": {},
   "source": [
    "##### WINDOW (alias for window function):\n",
    "\n",
    "```\n",
    "SELECT overs, SUM(runs) OVER main_window total_runs_between_wickets,\n",
    "\t\tMAX(runs) OVER main_window max_runs_between_wickets,\n",
    "\t\tMin(runs) OVER main_window max_runs_between_wickets,\n",
    "\t\t\n",
    "FROM SCORECARD\n",
    "WINDOW main_window as (PARTITION BY wickets ORDER BY overs)\n",
    "```\n",
    "\n",
    "\n",
    "##### LEAD & LAG\n",
    "\n",
    "```\n",
    "SELECT overs, SUM(runs) OVER main_window total_runs_between_wickets,\n",
    "\t\tLAG(runs) OVER main_window max_runs_between_wickets old_over_score,\n",
    "\t\tLead(runs) OVER main_window max_runs_between_wickets next_over_score,\n",
    "\t\tLead(runs) OVER main_window max_runs_between_wickets - SUM(runs)\n",
    "\t\n",
    "FROM SCORECARD\n",
    "WINDOW main_window as (PARTITION BY wickets ORDER BY overs)\n",
    "```\n",
    "##### previous and next over score each over "
   ]
  },
  {
   "cell_type": "markdown",
   "metadata": {},
   "source": [
    "##### NTILE: ORDER BY determines on which NTIL has to apply\n",
    "\n",
    "```\n",
    "SELECT NTILE(4) OVER (PARTITION BY overs ORDER BY runs) \n",
    "FROM SCORECARD\n",
    "```\n",
    "##### Overall runs are split into 4 parts and score after each over is checked against which quantile the runs belongs to. May be to check how fast score grew in the interval of quantiles.\n",
    "\n",
    "##### Note: Quartile indicates continuous data is divided in to 4 parts. quantiles are flexible to divide the continuous data into multiple parts."
   ]
  },
  {
   "cell_type": "markdown",
   "metadata": {},
   "source": [
    "### Advanced concepts"
   ]
  },
  {
   "cell_type": "markdown",
   "metadata": {},
   "source": [
    "##### difference between outerjoin and union; union require to have 2 table columns to be same and it just concatenates. outerjoin, joins columns from 2 table\n",
    "\n",
    "##### What if the column names are same ? will except joining key every other columns are retained with suffix or prefix ?\n",
    "##### Ideally 2 tables are related by only PK and FK but when 2 tables are same what is output of OUTER JOIN ?\n",
    "##### Will union have duplicate records ? or will PK constraints avoid duplicate rows ? so if PK is not defined then will there be duplicate ?"
   ]
  },
  {
   "cell_type": "markdown",
   "metadata": {},
   "source": [
    "##### Getting unmatched rows in FULL OUTER JOIN\n",
    "\n",
    "```\n",
    "SELECT *\n",
    "FROM table1\n",
    "FULL JOIN table2\n",
    "ON table1.col1 = table2.col2\n",
    "WHERE table1.col1 IS NULL OR table2.col2 IS NULL\n",
    "\n",
    "```\n",
    "\n",
    "So What would happen is FULL JOIN condition would fail if there are no matching rows and they are are part of the initial shorlist of rows but WHERE clause will make sure that intersecting portion is not include as the key is expected to be NULL"
   ]
  },
  {
   "cell_type": "markdown",
   "metadata": {},
   "source": [
    "##### Inequality joins : joins need not be all the time PK = FK, it can be as simple as some column other than PK, FK or including PK FK like PK and FK < 5\n",
    "\n",
    "```\n",
    "SELECT *\n",
    "FROM table1\n",
    "JOIN table2\n",
    "ON table1.pk < 5 and table2.pk < 5\n",
    "```\n",
    "\n",
    "##### below is one more example of inquality join:\n",
    "```\n",
    "SELECT *\n",
    "FROM table1\n",
    "JOIN table2\n",
    "ON table1.col1 = table2.col2\n",
    "WHERE table1.col5 < table2.col5\n",
    "```"
   ]
  },
  {
   "cell_type": "markdown",
   "metadata": {},
   "source": [
    "##### SELF JOIN: to know which are rows in the same table has relation with other rows\n",
    "\n",
    "```\n",
    "SELECT o1.id AS o1_id,\n",
    "       o1.account_id AS o1_account_id,\n",
    "       o1.occurred_at AS o1_occurred_at,\n",
    "       o2.id AS o2_id,\n",
    "       o2.account_id AS o2_account_id,\n",
    "       o2.occurred_at AS o2_occurred_at\n",
    "  FROM orders o1\n",
    " LEFT JOIN orders o2\n",
    "   ON o1.account_id = o2.account_id\n",
    "  AND o2.occurred_at > o1.occurred_at\n",
    "  AND o2.occurred_at <= o1.occurred_at + INTERVAL '28 days'\n",
    "ORDER BY o1.account_id, o1.occurred_at\n",
    "```\n",
    "\n",
    "##### Here we join it through account id but occurred_at indicate that 2 rows are being related with respect to \"occured at\" relation and the relation is defined by distance/ interval between 2 events for 28 days."
   ]
  },
  {
   "cell_type": "markdown",
   "metadata": {},
   "source": [
    "### Performance Tuning - 1:\n",
    "* to check the query output\n",
    "    * Use LIMIT to check the query output\n",
    "    * LIMIT is the last operation in the SELECT statement, so use sub sample in FROM statement\n",
    "    ```\n",
    "    SELECT account_id, SUM(*)\n",
    "    FROM (SELECT * FROM TABLE LIMIT 100)\n",
    "    WHERE account_id < 200\n",
    "    ```\n",
    "    * Here Subquery is executed at FROM clause and then on the 100 rows , aggregation is applied and finally where clause is applied. Knowing this info will help us query build time reduction."
   ]
  },
  {
   "cell_type": "markdown",
   "metadata": {},
   "source": [
    "### Performance Tuning - 2\n",
    "* when 2 tables are being joined then doublecheck if all rows are required from both tables.\n",
    "\n",
    "```\n",
    "SELECT t1.col1, SUM(t1.col1)\n",
    "FROM table1 t1\n",
    "JOIN table2 t2\n",
    "ON t1.col1 = t2.col1\n",
    "GROUP BY 1\n",
    "ORDER BY 2\n",
    "```\n",
    "##### Let us compare the above query with below one:\n",
    "\n",
    "```\n",
    "SELECT t1.col1, SUM(t1.col1)\n",
    "FROM table1 t1\n",
    "JOIN ( SELECT t2.col1, SUM(t2.col1) \n",
    "        FROM table2 t2\n",
    "        GROUP BY 1\n",
    "       ) sub\n",
    "       \n",
    "ON t1.col1 = sub.col1\n",
    "```\n",
    "\n",
    "##### Here first table2 is shrinked for unique col1 values then the join operation happens on this subset and hence faster."
   ]
  },
  {
   "cell_type": "markdown",
   "metadata": {},
   "source": [
    "##### You might have also noticed that it is repeatetion of SUM aggregation function\n",
    "```\n",
    "SELECT sub.*\n",
    "FROM table1 t1\n",
    "JOIN(SELECT t2.col1, SUM(t2.col1)\n",
    "        FROM table2 t2\n",
    "        GROUP BY 1\n",
    "        ) sub\n",
    "on t1.col1 = sub.col1\n",
    "```"
   ]
  },
  {
   "cell_type": "markdown",
   "metadata": {},
   "source": [
    "### Performance Tuning - 3:\n",
    "* User EXPLAIN query to see the cost first and then work on the costlier operation to reduce the cost.\n",
    "    * EXPLAIN does not gives the exact measure but it can be used for relative comparison. i.e comparison with 2 costs for versions of the queries on the same table is legit but comparing cost with time or comparing cost with 2 logically different queries is not right way"
   ]
  }
 ],
 "metadata": {
  "kernelspec": {
   "display_name": "Python 3",
   "language": "python",
   "name": "python3"
  },
  "language_info": {
   "codemirror_mode": {
    "name": "ipython",
    "version": 3
   },
   "file_extension": ".py",
   "mimetype": "text/x-python",
   "name": "python",
   "nbconvert_exporter": "python",
   "pygments_lexer": "ipython3",
   "version": "3.7.1"
  }
 },
 "nbformat": 4,
 "nbformat_minor": 2
}
