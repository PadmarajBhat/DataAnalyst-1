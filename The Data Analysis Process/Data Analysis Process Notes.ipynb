{
 "cells": [
  {
   "cell_type": "markdown",
   "metadata": {},
   "source": [
    "##### The 5 stages for Data Analysis\n",
    "* Ask Questions\n",
    "* Wrangle Data : Gather, Assess and Clean\n",
    "* Expore the data: Exploratory data analysis\n",
    "* Draw conclusion : machine learning, inferential statistics, descriptive statistics.\n",
    "* Communicate: Your analysis is only as valuable as your ability to communicate."
   ]
  },
  {
   "cell_type": "code",
   "execution_count": null,
   "metadata": {},
   "outputs": [],
   "source": []
  }
 ],
 "metadata": {
  "kernelspec": {
   "display_name": "Python 3",
   "language": "python",
   "name": "python3"
  },
  "language_info": {
   "codemirror_mode": {
    "name": "ipython",
    "version": 3
   },
   "file_extension": ".py",
   "mimetype": "text/x-python",
   "name": "python",
   "nbconvert_exporter": "python",
   "pygments_lexer": "ipython3",
   "version": "3.6.5"
  }
 },
 "nbformat": 4,
 "nbformat_minor": 2
}
